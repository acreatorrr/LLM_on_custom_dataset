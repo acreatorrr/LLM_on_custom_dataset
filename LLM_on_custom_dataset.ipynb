{
  "nbformat": 4,
  "nbformat_minor": 0,
  "metadata": {
    "colab": {
      "provenance": [],
      "gpuType": "T4",
      "authorship_tag": "ABX9TyO0Lxv4gxQYY8A4MB+Tx2rt",
      "include_colab_link": true
    },
    "kernelspec": {
      "name": "python3",
      "display_name": "Python 3"
    },
    "language_info": {
      "name": "python"
    },
    "accelerator": "GPU"
  },
  "cells": [
    {
      "cell_type": "markdown",
      "metadata": {
        "id": "view-in-github",
        "colab_type": "text"
      },
      "source": [
        "<a href=\"https://colab.research.google.com/github/acreatorrr/LLM_on_custom_dataset/blob/main/LLM_on_custom_dataset.ipynb\" target=\"_parent\"><img src=\"https://colab.research.google.com/assets/colab-badge.svg\" alt=\"Open In Colab\"/></a>"
      ]
    },
    {
      "cell_type": "code",
      "source": [
        "!pip install langchain"
      ],
      "metadata": {
        "colab": {
          "base_uri": "https://localhost:8080/"
        },
        "id": "VD06SK6HHRGM",
        "outputId": "bddbc86b-88ba-4dbe-f6b3-e1389eeda0dc"
      },
      "execution_count": 2,
      "outputs": [
        {
          "output_type": "stream",
          "name": "stdout",
          "text": [
            "Collecting langchain\n",
            "  Downloading langchain-0.0.350-py3-none-any.whl (809 kB)\n",
            "\u001b[2K     \u001b[90m━━━━━━━━━━━━━━━━━━━━━━━━━━━━━━━━━━━━━━━━\u001b[0m \u001b[32m809.1/809.1 kB\u001b[0m \u001b[31m7.8 MB/s\u001b[0m eta \u001b[36m0:00:00\u001b[0m\n",
            "\u001b[?25hRequirement already satisfied: PyYAML>=5.3 in /usr/local/lib/python3.10/dist-packages (from langchain) (6.0.1)\n",
            "Requirement already satisfied: SQLAlchemy<3,>=1.4 in /usr/local/lib/python3.10/dist-packages (from langchain) (2.0.23)\n",
            "Requirement already satisfied: aiohttp<4.0.0,>=3.8.3 in /usr/local/lib/python3.10/dist-packages (from langchain) (3.9.1)\n",
            "Requirement already satisfied: async-timeout<5.0.0,>=4.0.0 in /usr/local/lib/python3.10/dist-packages (from langchain) (4.0.3)\n",
            "Collecting dataclasses-json<0.7,>=0.5.7 (from langchain)\n",
            "  Downloading dataclasses_json-0.6.3-py3-none-any.whl (28 kB)\n",
            "Collecting jsonpatch<2.0,>=1.33 (from langchain)\n",
            "  Downloading jsonpatch-1.33-py2.py3-none-any.whl (12 kB)\n",
            "Collecting langchain-community<0.1,>=0.0.2 (from langchain)\n",
            "  Downloading langchain_community-0.0.3-py3-none-any.whl (1.5 MB)\n",
            "\u001b[2K     \u001b[90m━━━━━━━━━━━━━━━━━━━━━━━━━━━━━━━━━━━━━━━━\u001b[0m \u001b[32m1.5/1.5 MB\u001b[0m \u001b[31m20.7 MB/s\u001b[0m eta \u001b[36m0:00:00\u001b[0m\n",
            "\u001b[?25hCollecting langchain-core<0.2,>=0.1 (from langchain)\n",
            "  Downloading langchain_core-0.1.1-py3-none-any.whl (190 kB)\n",
            "\u001b[2K     \u001b[90m━━━━━━━━━━━━━━━━━━━━━━━━━━━━━━━━━━━━━━━━\u001b[0m \u001b[32m190.6/190.6 kB\u001b[0m \u001b[31m19.0 MB/s\u001b[0m eta \u001b[36m0:00:00\u001b[0m\n",
            "\u001b[?25hCollecting langsmith<0.1.0,>=0.0.63 (from langchain)\n",
            "  Downloading langsmith-0.0.70-py3-none-any.whl (45 kB)\n",
            "\u001b[2K     \u001b[90m━━━━━━━━━━━━━━━━━━━━━━━━━━━━━━━━━━━━━━━━\u001b[0m \u001b[32m46.0/46.0 kB\u001b[0m \u001b[31m7.6 MB/s\u001b[0m eta \u001b[36m0:00:00\u001b[0m\n",
            "\u001b[?25hRequirement already satisfied: numpy<2,>=1 in /usr/local/lib/python3.10/dist-packages (from langchain) (1.23.5)\n",
            "Requirement already satisfied: pydantic<3,>=1 in /usr/local/lib/python3.10/dist-packages (from langchain) (1.10.13)\n",
            "Requirement already satisfied: requests<3,>=2 in /usr/local/lib/python3.10/dist-packages (from langchain) (2.31.0)\n",
            "Requirement already satisfied: tenacity<9.0.0,>=8.1.0 in /usr/local/lib/python3.10/dist-packages (from langchain) (8.2.3)\n",
            "Requirement already satisfied: attrs>=17.3.0 in /usr/local/lib/python3.10/dist-packages (from aiohttp<4.0.0,>=3.8.3->langchain) (23.1.0)\n",
            "Requirement already satisfied: multidict<7.0,>=4.5 in /usr/local/lib/python3.10/dist-packages (from aiohttp<4.0.0,>=3.8.3->langchain) (6.0.4)\n",
            "Requirement already satisfied: yarl<2.0,>=1.0 in /usr/local/lib/python3.10/dist-packages (from aiohttp<4.0.0,>=3.8.3->langchain) (1.9.4)\n",
            "Requirement already satisfied: frozenlist>=1.1.1 in /usr/local/lib/python3.10/dist-packages (from aiohttp<4.0.0,>=3.8.3->langchain) (1.4.0)\n",
            "Requirement already satisfied: aiosignal>=1.1.2 in /usr/local/lib/python3.10/dist-packages (from aiohttp<4.0.0,>=3.8.3->langchain) (1.3.1)\n",
            "Collecting marshmallow<4.0.0,>=3.18.0 (from dataclasses-json<0.7,>=0.5.7->langchain)\n",
            "  Downloading marshmallow-3.20.1-py3-none-any.whl (49 kB)\n",
            "\u001b[2K     \u001b[90m━━━━━━━━━━━━━━━━━━━━━━━━━━━━━━━━━━━━━━━━\u001b[0m \u001b[32m49.4/49.4 kB\u001b[0m \u001b[31m7.1 MB/s\u001b[0m eta \u001b[36m0:00:00\u001b[0m\n",
            "\u001b[?25hCollecting typing-inspect<1,>=0.4.0 (from dataclasses-json<0.7,>=0.5.7->langchain)\n",
            "  Downloading typing_inspect-0.9.0-py3-none-any.whl (8.8 kB)\n",
            "Collecting jsonpointer>=1.9 (from jsonpatch<2.0,>=1.33->langchain)\n",
            "  Downloading jsonpointer-2.4-py2.py3-none-any.whl (7.8 kB)\n",
            "Requirement already satisfied: anyio<5,>=3 in /usr/local/lib/python3.10/dist-packages (from langchain-core<0.2,>=0.1->langchain) (3.7.1)\n",
            "Requirement already satisfied: packaging<24.0,>=23.2 in /usr/local/lib/python3.10/dist-packages (from langchain-core<0.2,>=0.1->langchain) (23.2)\n",
            "Requirement already satisfied: typing-extensions>=4.2.0 in /usr/local/lib/python3.10/dist-packages (from pydantic<3,>=1->langchain) (4.5.0)\n",
            "Requirement already satisfied: charset-normalizer<4,>=2 in /usr/local/lib/python3.10/dist-packages (from requests<3,>=2->langchain) (3.3.2)\n",
            "Requirement already satisfied: idna<4,>=2.5 in /usr/local/lib/python3.10/dist-packages (from requests<3,>=2->langchain) (3.6)\n",
            "Requirement already satisfied: urllib3<3,>=1.21.1 in /usr/local/lib/python3.10/dist-packages (from requests<3,>=2->langchain) (2.0.7)\n",
            "Requirement already satisfied: certifi>=2017.4.17 in /usr/local/lib/python3.10/dist-packages (from requests<3,>=2->langchain) (2023.11.17)\n",
            "Requirement already satisfied: greenlet!=0.4.17 in /usr/local/lib/python3.10/dist-packages (from SQLAlchemy<3,>=1.4->langchain) (3.0.2)\n",
            "Requirement already satisfied: sniffio>=1.1 in /usr/local/lib/python3.10/dist-packages (from anyio<5,>=3->langchain-core<0.2,>=0.1->langchain) (1.3.0)\n",
            "Requirement already satisfied: exceptiongroup in /usr/local/lib/python3.10/dist-packages (from anyio<5,>=3->langchain-core<0.2,>=0.1->langchain) (1.2.0)\n",
            "Collecting mypy-extensions>=0.3.0 (from typing-inspect<1,>=0.4.0->dataclasses-json<0.7,>=0.5.7->langchain)\n",
            "  Downloading mypy_extensions-1.0.0-py3-none-any.whl (4.7 kB)\n",
            "Installing collected packages: mypy-extensions, marshmallow, jsonpointer, typing-inspect, langsmith, jsonpatch, langchain-core, dataclasses-json, langchain-community, langchain\n",
            "Successfully installed dataclasses-json-0.6.3 jsonpatch-1.33 jsonpointer-2.4 langchain-0.0.350 langchain-community-0.0.3 langchain-core-0.1.1 langsmith-0.0.70 marshmallow-3.20.1 mypy-extensions-1.0.0 typing-inspect-0.9.0\n"
          ]
        }
      ]
    },
    {
      "cell_type": "code",
      "source": [],
      "metadata": {
        "id": "lpoLpF8AHRJj"
      },
      "execution_count": null,
      "outputs": []
    },
    {
      "cell_type": "code",
      "execution_count": 3,
      "metadata": {
        "id": "r2NP5dvYGfTk"
      },
      "outputs": [],
      "source": [
        "from langchain.llms import GooglePalm\n",
        "\n",
        "api_key = 'AIzaSyCknXS2hfg_RHEEj6h2SdeUN'\n",
        "\n",
        "llm = GooglePalm(google_api_key=api_key, temperature=0.1)"
      ]
    },
    {
      "cell_type": "code",
      "source": [],
      "metadata": {
        "id": "a8zLXb1-HNoL"
      },
      "execution_count": null,
      "outputs": []
    },
    {
      "cell_type": "code",
      "source": [
        "poem = llm(\"Write a 4 line poem of my love for samosa\")\n",
        "print(poem)"
      ],
      "metadata": {
        "colab": {
          "base_uri": "https://localhost:8080/",
          "height": 86
        },
        "id": "ymU3mNmfHvG2",
        "outputId": "dbcd243c-def4-4a74-ab14-80d28e240a58"
      },
      "execution_count": 4,
      "outputs": [
        {
          "output_type": "stream",
          "name": "stdout",
          "text": [
            "**Oh, samosa, my love**\n",
            "**You are so crispy and golden brown**\n",
            "**With your filling of spiced potatoes**\n",
            "**You are the perfect snack**\n"
          ]
        }
      ]
    },
    {
      "cell_type": "code",
      "source": [],
      "metadata": {
        "id": "wgLgJKyJHvJ7"
      },
      "execution_count": null,
      "outputs": []
    },
    {
      "cell_type": "code",
      "source": [
        "from langchain.chains import RetrievalQA\n",
        "\n",
        "\n",
        "from langchain.embeddings import GooglePalmEmbeddings\n"
      ],
      "metadata": {
        "id": "Oyt6y2RbHvNL"
      },
      "execution_count": 5,
      "outputs": []
    },
    {
      "cell_type": "code",
      "source": [],
      "metadata": {
        "id": "DAL7hTGtHvQU"
      },
      "execution_count": null,
      "outputs": []
    },
    {
      "cell_type": "code",
      "source": [],
      "metadata": {
        "id": "iUmPP57cJ42N"
      },
      "execution_count": null,
      "outputs": []
    },
    {
      "cell_type": "markdown",
      "source": [
        "# **CSV LOADER**"
      ],
      "metadata": {
        "id": "IDMNOEA8vR7N"
      }
    },
    {
      "cell_type": "code",
      "source": [
        "from google.colab import drive\n",
        "drive.mount('/content/gdrive')"
      ],
      "metadata": {
        "colab": {
          "base_uri": "https://localhost:8080/"
        },
        "id": "UMfwIsEUJ5Co",
        "outputId": "3d497441-b2bd-4631-f9ca-bab97919551b"
      },
      "execution_count": 7,
      "outputs": [
        {
          "output_type": "stream",
          "name": "stdout",
          "text": [
            "Drive already mounted at /content/gdrive; to attempt to forcibly remount, call drive.mount(\"/content/gdrive\", force_remount=True).\n"
          ]
        }
      ]
    },
    {
      "cell_type": "code",
      "source": [],
      "metadata": {
        "id": "dMbtFZouJ5PN"
      },
      "execution_count": null,
      "outputs": []
    },
    {
      "cell_type": "code",
      "source": [
        "from langchain.document_loaders.csv_loader import CSVLoader\n",
        "\n",
        "loader = CSVLoader(file_path=\"/content/LLM-Sample-Input-File.csv\")\n",
        "\n",
        "data = loader.load()\n",
        "\n",
        "print(data)"
      ],
      "metadata": {
        "colab": {
          "base_uri": "https://localhost:8080/"
        },
        "id": "xC0tR4jtHvTd",
        "outputId": "27adda58-ce9e-404c-afe2-f86422c84231"
      },
      "execution_count": 42,
      "outputs": [
        {
          "output_type": "stream",
          "name": "stdout",
          "text": [
            "[Document(page_content='\\ufeffCompany Name: Potato Inc.\\nCategory: Revenue By Product\\nSub Cat: Tablets\\nPeriod: 2022 Q1\\nValue - Randomized: 57,984,000,000', metadata={'source': '/content/LLM-Sample-Input-File.csv', 'row': 0}), Document(page_content='\\ufeffCompany Name: Potato Inc.\\nCategory: Revenue By Product\\nSub Cat: Tablets\\nPeriod: 2022 Q2\\nValue - Randomized: 68,814,000,000', metadata={'source': '/content/LLM-Sample-Input-File.csv', 'row': 1}), Document(page_content='\\ufeffCompany Name: Potato Inc.\\nCategory: Revenue By Product\\nSub Cat: Tablets\\nPeriod: 2022 Q3\\nValue - Randomized: 21,672,000,000', metadata={'source': '/content/LLM-Sample-Input-File.csv', 'row': 2}), Document(page_content='\\ufeffCompany Name: Potato Inc.\\nCategory: Revenue By Product\\nSub Cat: Tablets\\nPeriod: 2022 Q4\\nValue - Randomized: 35,870,000,000', metadata={'source': '/content/LLM-Sample-Input-File.csv', 'row': 3}), Document(page_content='\\ufeffCompany Name: Potato Inc.\\nCategory: Revenue By Product\\nSub Cat: Tablets\\nPeriod: 2023 Q2\\nValue - Randomized: 50,176,000,000', metadata={'source': '/content/LLM-Sample-Input-File.csv', 'row': 4}), Document(page_content='\\ufeffCompany Name: Potato Inc.\\nCategory: Revenue By Product\\nSub Cat: Tablets\\nPeriod: 2023 Q3\\nValue - Randomized: 46,328,000,000', metadata={'source': '/content/LLM-Sample-Input-File.csv', 'row': 5}), Document(page_content='\\ufeffCompany Name: Potato Inc.\\nCategory: Revenue By Product\\nSub Cat: Tablets\\nPeriod: 2023 Q1\\nValue - Randomized: 59,616,000,000', metadata={'source': '/content/LLM-Sample-Input-File.csv', 'row': 6}), Document(page_content='\\ufeffCompany Name: Potato Inc.\\nCategory: Revenue By Product\\nSub Cat: Smartphones\\nPeriod: 2022 Q1\\nValue - Randomized: 573,000,000,000', metadata={'source': '/content/LLM-Sample-Input-File.csv', 'row': 7}), Document(page_content='\\ufeffCompany Name: Potato Inc.\\nCategory: Revenue By Product\\nSub Cat: Smartphones\\nPeriod: 2022 Q2\\nValue - Randomized: 253,000,000,000', metadata={'source': '/content/LLM-Sample-Input-File.csv', 'row': 8}), Document(page_content='\\ufeffCompany Name: Potato Inc.\\nCategory: Revenue By Product\\nSub Cat: Smartphones\\nPeriod: 2022 Q3\\nValue - Randomized: 203,000,000,000', metadata={'source': '/content/LLM-Sample-Input-File.csv', 'row': 9}), Document(page_content='\\ufeffCompany Name: Potato Inc.\\nCategory: Revenue By Product\\nSub Cat: Smartphones\\nPeriod: 2022 Q4\\nValue - Randomized: 128,000,000,000', metadata={'source': '/content/LLM-Sample-Input-File.csv', 'row': 10}), Document(page_content='\\ufeffCompany Name: Potato Inc.\\nCategory: Revenue By Product\\nSub Cat: Smartphones\\nPeriod: 2023 Q2\\nValue - Randomized: 205,000,000,000', metadata={'source': '/content/LLM-Sample-Input-File.csv', 'row': 11}), Document(page_content='\\ufeffCompany Name: Potato Inc.\\nCategory: Revenue By Product\\nSub Cat: Smartphones\\nPeriod: 2023 Q3\\nValue - Randomized: 159,000,000,000', metadata={'source': '/content/LLM-Sample-Input-File.csv', 'row': 12}), Document(page_content='\\ufeffCompany Name: Potato Inc.\\nCategory: Revenue By Product\\nSub Cat: Smartphones\\nPeriod: 2023 Q1\\nValue - Randomized: 460,000,000,000', metadata={'source': '/content/LLM-Sample-Input-File.csv', 'row': 13}), Document(page_content='\\ufeffCompany Name: Potato Inc.\\nCategory: Revenue By Product\\nSub Cat: Services\\nPeriod: 2023 Q1\\nValue - Randomized: 125,000,000,000', metadata={'source': '/content/LLM-Sample-Input-File.csv', 'row': 14}), Document(page_content='\\ufeffCompany Name: Potato Inc.\\nCategory: Revenue By Product\\nSub Cat: Services\\nPeriod: 2022 Q1\\nValue - Randomized: 137,000,000,000', metadata={'source': '/content/LLM-Sample-Input-File.csv', 'row': 15}), Document(page_content='\\ufeffCompany Name: Potato Inc.\\nCategory: Revenue By Product\\nSub Cat: Services\\nPeriod: 2022 Q2\\nValue - Randomized: 79,284,000,000', metadata={'source': '/content/LLM-Sample-Input-File.csv', 'row': 16}), Document(page_content='\\ufeffCompany Name: Potato Inc.\\nCategory: Revenue By Product\\nSub Cat: Services\\nPeriod: 2022 Q3\\nValue - Randomized: 137,000,000,000', metadata={'source': '/content/LLM-Sample-Input-File.csv', 'row': 17}), Document(page_content='\\ufeffCompany Name: Potato Inc.\\nCategory: Revenue By Product\\nSub Cat: Services\\nPeriod: 2022 Q4\\nValue - Randomized: 173,000,000,000', metadata={'source': '/content/LLM-Sample-Input-File.csv', 'row': 18}), Document(page_content='\\ufeffCompany Name: Potato Inc.\\nCategory: Revenue By Product\\nSub Cat: Services\\nPeriod: 2023 Q2\\nValue - Randomized: 167,000,000,000', metadata={'source': '/content/LLM-Sample-Input-File.csv', 'row': 19}), Document(page_content='\\ufeffCompany Name: Potato Inc.\\nCategory: Revenue By Product\\nSub Cat: Services\\nPeriod: 2023 Q3\\nValue - Randomized: 63,639,000,000', metadata={'source': '/content/LLM-Sample-Input-File.csv', 'row': 20}), Document(page_content='\\ufeffCompany Name: Potato Inc.\\nCategory: Revenue By Region\\nSub Cat: Rest of Asia Pacific\\nPeriod: 2022 Q1\\nValue - Randomized: 39,240,000,000', metadata={'source': '/content/LLM-Sample-Input-File.csv', 'row': 21}), Document(page_content='\\ufeffCompany Name: Potato Inc.\\nCategory: Revenue By Region\\nSub Cat: Rest of Asia Pacific\\nPeriod: 2022 Q2\\nValue - Randomized: 28,168,000,000', metadata={'source': '/content/LLM-Sample-Input-File.csv', 'row': 22}), Document(page_content='\\ufeffCompany Name: Potato Inc.\\nCategory: Revenue By Region\\nSub Cat: Rest of Asia Pacific\\nPeriod: 2022 Q3\\nValue - Randomized: 24,600,000,000', metadata={'source': '/content/LLM-Sample-Input-File.csv', 'row': 23}), Document(page_content='\\ufeffCompany Name: Potato Inc.\\nCategory: Revenue By Region\\nSub Cat: Rest of Asia Pacific\\nPeriod: 2022 Q4\\nValue - Randomized: 50,984,000,000', metadata={'source': '/content/LLM-Sample-Input-File.csv', 'row': 24}), Document(page_content='\\ufeffCompany Name: Potato Inc.\\nCategory: Revenue By Region\\nSub Cat: Rest of Asia Pacific\\nPeriod: 2023 Q2\\nValue - Randomized: 48,714,000,000', metadata={'source': '/content/LLM-Sample-Input-File.csv', 'row': 25}), Document(page_content='\\ufeffCompany Name: Potato Inc.\\nCategory: Revenue By Region\\nSub Cat: Rest of Asia Pacific\\nPeriod: 2023 Q3\\nValue - Randomized: 22,520,000,000', metadata={'source': '/content/LLM-Sample-Input-File.csv', 'row': 26}), Document(page_content='\\ufeffCompany Name: Potato Inc.\\nCategory: Revenue By Region\\nSub Cat: Rest of Asia Pacific\\nPeriod: 2023 Q1\\nValue - Randomized: 38,140,000,000', metadata={'source': '/content/LLM-Sample-Input-File.csv', 'row': 27}), Document(page_content='\\ufeffCompany Name: Potato Inc.\\nCategory: Revenue By Product\\nSub Cat: Other\\nPeriod: 2023 Q1\\nValue - Randomized: 80,892,000,000', metadata={'source': '/content/LLM-Sample-Input-File.csv', 'row': 28}), Document(page_content='\\ufeffCompany Name: Potato Inc.\\nCategory: Revenue By Product\\nSub Cat: Other\\nPeriod: 2022 Q1\\nValue - Randomized: 58,804,000,000', metadata={'source': '/content/LLM-Sample-Input-File.csv', 'row': 29}), Document(page_content='\\ufeffCompany Name: Potato Inc.\\nCategory: Revenue By Product\\nSub Cat: Other\\nPeriod: 2022 Q2\\nValue - Randomized: 79,254,000,000', metadata={'source': '/content/LLM-Sample-Input-File.csv', 'row': 30}), Document(page_content='\\ufeffCompany Name: Potato Inc.\\nCategory: Revenue By Product\\nSub Cat: Other\\nPeriod: 2022 Q3\\nValue - Randomized: 32,336,000,000', metadata={'source': '/content/LLM-Sample-Input-File.csv', 'row': 31}), Document(page_content='\\ufeffCompany Name: Potato Inc.\\nCategory: Revenue By Product\\nSub Cat: Other\\nPeriod: 2022 Q4\\nValue - Randomized: 48,250,000,000', metadata={'source': '/content/LLM-Sample-Input-File.csv', 'row': 32}), Document(page_content='\\ufeffCompany Name: Potato Inc.\\nCategory: Revenue By Product\\nSub Cat: Other\\nPeriod: 2023 Q2\\nValue - Randomized: 35,028,000,000', metadata={'source': '/content/LLM-Sample-Input-File.csv', 'row': 33}), Document(page_content='\\ufeffCompany Name: Potato Inc.\\nCategory: Revenue By Product\\nSub Cat: Other\\nPeriod: 2023 Q3\\nValue - Randomized: 24,852,000,000', metadata={'source': '/content/LLM-Sample-Input-File.csv', 'row': 34}), Document(page_content='\\ufeffCompany Name: Potato Inc.\\nCategory: Revenue By Region\\nSub Cat: Japan\\nPeriod: 2022 Q1\\nValue - Randomized: 49,749,000,000', metadata={'source': '/content/LLM-Sample-Input-File.csv', 'row': 35}), Document(page_content='\\ufeffCompany Name: Potato Inc.\\nCategory: Revenue By Region\\nSub Cat: Japan\\nPeriod: 2022 Q2\\nValue - Randomized: 15,448,000,000', metadata={'source': '/content/LLM-Sample-Input-File.csv', 'row': 36}), Document(page_content='\\ufeffCompany Name: Potato Inc.\\nCategory: Revenue By Region\\nSub Cat: Japan\\nPeriod: 2022 Q3\\nValue - Randomized: 43,568,000,000', metadata={'source': '/content/LLM-Sample-Input-File.csv', 'row': 37}), Document(page_content='\\ufeffCompany Name: Potato Inc.\\nCategory: Revenue By Region\\nSub Cat: Japan\\nPeriod: 2022 Q4\\nValue - Randomized: 45,600,000,000', metadata={'source': '/content/LLM-Sample-Input-File.csv', 'row': 38}), Document(page_content='\\ufeffCompany Name: Potato Inc.\\nCategory: Revenue By Region\\nSub Cat: Japan\\nPeriod: 2023 Q2\\nValue - Randomized: 43,056,000,000', metadata={'source': '/content/LLM-Sample-Input-File.csv', 'row': 39}), Document(page_content='\\ufeffCompany Name: Potato Inc.\\nCategory: Revenue By Region\\nSub Cat: Japan\\nPeriod: 2023 Q3\\nValue - Randomized: 33,747,000,000', metadata={'source': '/content/LLM-Sample-Input-File.csv', 'row': 40}), Document(page_content='\\ufeffCompany Name: Potato Inc.\\nCategory: Revenue By Region\\nSub Cat: Japan\\nPeriod: 2023 Q1\\nValue - Randomized: 20,265,000,000', metadata={'source': '/content/LLM-Sample-Input-File.csv', 'row': 41}), Document(page_content='\\ufeffCompany Name: Potato Inc.\\nCategory: Revenue By Region\\nSub Cat: Greater China\\nPeriod: 2022 Q1\\nValue - Randomized: 129,000,000,000', metadata={'source': '/content/LLM-Sample-Input-File.csv', 'row': 42}), Document(page_content='\\ufeffCompany Name: Potato Inc.\\nCategory: Revenue By Region\\nSub Cat: Greater China\\nPeriod: 2022 Q2\\nValue - Randomized: 91,715,000,000', metadata={'source': '/content/LLM-Sample-Input-File.csv', 'row': 43}), Document(page_content='\\ufeffCompany Name: Potato Inc.\\nCategory: Revenue By Region\\nSub Cat: Greater China\\nPeriod: 2022 Q3\\nValue - Randomized: 43,812,000,000', metadata={'source': '/content/LLM-Sample-Input-File.csv', 'row': 44}), Document(page_content='\\ufeffCompany Name: Potato Inc.\\nCategory: Revenue By Region\\nSub Cat: Greater China\\nPeriod: 2022 Q4\\nValue - Randomized: 92,820,000,000', metadata={'source': '/content/LLM-Sample-Input-File.csv', 'row': 45}), Document(page_content='\\ufeffCompany Name: Potato Inc.\\nCategory: Revenue By Region\\nSub Cat: Greater China\\nPeriod: 2023 Q2\\nValue - Randomized: 53,436,000,000', metadata={'source': '/content/LLM-Sample-Input-File.csv', 'row': 46}), Document(page_content='\\ufeffCompany Name: Potato Inc.\\nCategory: Revenue By Region\\nSub Cat: Greater China\\nPeriod: 2023 Q3\\nValue - Randomized: 110,000,000,000', metadata={'source': '/content/LLM-Sample-Input-File.csv', 'row': 47}), Document(page_content='\\ufeffCompany Name: Potato Inc.\\nCategory: Revenue By Region\\nSub Cat: Greater China\\nPeriod: 2023 Q1\\nValue - Randomized: 191,000,000,000', metadata={'source': '/content/LLM-Sample-Input-File.csv', 'row': 48}), Document(page_content='\\ufeffCompany Name: Potato Inc.\\nCategory: Revenue By Region\\nSub Cat: Europe\\nPeriod: 2022 Q1\\nValue - Randomized: 208,000,000,000', metadata={'source': '/content/LLM-Sample-Input-File.csv', 'row': 49}), Document(page_content='\\ufeffCompany Name: Potato Inc.\\nCategory: Revenue By Region\\nSub Cat: Europe\\nPeriod: 2022 Q2\\nValue - Randomized: 116,000,000,000', metadata={'source': '/content/LLM-Sample-Input-File.csv', 'row': 50}), Document(page_content='\\ufeffCompany Name: Potato Inc.\\nCategory: Revenue By Region\\nSub Cat: Europe\\nPeriod: 2022 Q3\\nValue - Randomized: 174,000,000,000', metadata={'source': '/content/LLM-Sample-Input-File.csv', 'row': 51}), Document(page_content='\\ufeffCompany Name: Potato Inc.\\nCategory: Revenue By Region\\nSub Cat: Europe\\nPeriod: 2022 Q4\\nValue - Randomized: 182,000,000,000', metadata={'source': '/content/LLM-Sample-Input-File.csv', 'row': 52}), Document(page_content='\\ufeffCompany Name: Potato Inc.\\nCategory: Revenue By Region\\nSub Cat: Europe\\nPeriod: 2023 Q2\\nValue - Randomized: 95,780,000,000', metadata={'source': '/content/LLM-Sample-Input-File.csv', 'row': 53}), Document(page_content='\\ufeffCompany Name: Potato Inc.\\nCategory: Revenue By Region\\nSub Cat: Europe\\nPeriod: 2023 Q3\\nValue - Randomized: 162,000,000,000', metadata={'source': '/content/LLM-Sample-Input-File.csv', 'row': 54}), Document(page_content='\\ufeffCompany Name: Potato Inc.\\nCategory: Revenue By Region\\nSub Cat: Europe\\nPeriod: 2023 Q1\\nValue - Randomized: 194,000,000,000', metadata={'source': '/content/LLM-Sample-Input-File.csv', 'row': 55}), Document(page_content='\\ufeffCompany Name: Potato Inc.\\nCategory: Revenue By Product\\nSub Cat: Computers\\nPeriod: 2023 Q1\\nValue - Randomized: 61,880,000,000', metadata={'source': '/content/LLM-Sample-Input-File.csv', 'row': 56}), Document(page_content='\\ufeffCompany Name: Potato Inc.\\nCategory: Revenue By Product\\nSub Cat: Computers\\nPeriod: 2022 Q1\\nValue - Randomized: 54,260,000,000', metadata={'source': '/content/LLM-Sample-Input-File.csv', 'row': 57}), Document(page_content='\\ufeffCompany Name: Potato Inc.\\nCategory: Revenue By Product\\nSub Cat: Computers\\nPeriod: 2022 Q2\\nValue - Randomized: 52,175,000,000', metadata={'source': '/content/LLM-Sample-Input-File.csv', 'row': 58}), Document(page_content='\\ufeffCompany Name: Potato Inc.\\nCategory: Revenue By Product\\nSub Cat: Computers\\nPeriod: 2022 Q3\\nValue - Randomized: 59,056,000,000', metadata={'source': '/content/LLM-Sample-Input-File.csv', 'row': 59}), Document(page_content='\\ufeffCompany Name: Potato Inc.\\nCategory: Revenue By Product\\nSub Cat: Computers\\nPeriod: 2022 Q4\\nValue - Randomized: 23,016,000,000', metadata={'source': '/content/LLM-Sample-Input-File.csv', 'row': 60}), Document(page_content='\\ufeffCompany Name: Potato Inc.\\nCategory: Revenue By Product\\nSub Cat: Computers\\nPeriod: 2023 Q2\\nValue - Randomized: 46,690,000,000', metadata={'source': '/content/LLM-Sample-Input-File.csv', 'row': 61}), Document(page_content='\\ufeffCompany Name: Potato Inc.\\nCategory: Revenue By Product\\nSub Cat: Computers\\nPeriod: 2023 Q3\\nValue - Randomized: 34,200,000,000', metadata={'source': '/content/LLM-Sample-Input-File.csv', 'row': 62}), Document(page_content='\\ufeffCompany Name: Potato Inc.\\nCategory: Revenue By Region\\nSub Cat: Americas\\nPeriod: 2022 Q1\\nValue - Randomized: 360,000,000,000', metadata={'source': '/content/LLM-Sample-Input-File.csv', 'row': 63}), Document(page_content='\\ufeffCompany Name: Potato Inc.\\nCategory: Revenue By Region\\nSub Cat: Americas\\nPeriod: 2022 Q2\\nValue - Randomized: 204,000,000,000', metadata={'source': '/content/LLM-Sample-Input-File.csv', 'row': 64}), Document(page_content='\\ufeffCompany Name: Potato Inc.\\nCategory: Revenue By Region\\nSub Cat: Americas\\nPeriod: 2022 Q3\\nValue - Randomized: 337,000,000,000', metadata={'source': '/content/LLM-Sample-Input-File.csv', 'row': 65}), Document(page_content='\\ufeffCompany Name: Potato Inc.\\nCategory: Revenue By Region\\nSub Cat: Americas\\nPeriod: 2022 Q4\\nValue - Randomized: 279,000,000,000', metadata={'source': '/content/LLM-Sample-Input-File.csv', 'row': 66}), Document(page_content='\\ufeffCompany Name: Potato Inc.\\nCategory: Revenue By Region\\nSub Cat: Americas\\nPeriod: 2023 Q1\\nValue - Randomized: 197,000,000,000', metadata={'source': '/content/LLM-Sample-Input-File.csv', 'row': 67}), Document(page_content='\\ufeffCompany Name: Potato Inc.\\nCategory: Revenue By Region\\nSub Cat: Americas\\nPeriod: 2023 Q2\\nValue - Randomized: 189,000,000,000', metadata={'source': '/content/LLM-Sample-Input-File.csv', 'row': 68}), Document(page_content='\\ufeffCompany Name: Potato Inc.\\nCategory: Revenue By Region\\nSub Cat: Americas\\nPeriod: 2023 Q3\\nValue - Randomized: 177,000,000,000', metadata={'source': '/content/LLM-Sample-Input-File.csv', 'row': 69})]\n"
          ]
        }
      ]
    },
    {
      "cell_type": "code",
      "source": [],
      "metadata": {
        "id": "Er9-o3bBPU08"
      },
      "execution_count": null,
      "outputs": []
    },
    {
      "cell_type": "code",
      "source": [],
      "metadata": {
        "id": "1CQHpPTKbIJF"
      },
      "execution_count": null,
      "outputs": []
    },
    {
      "cell_type": "code",
      "source": [],
      "metadata": {
        "id": "EXhD0EgTbINX"
      },
      "execution_count": null,
      "outputs": []
    },
    {
      "cell_type": "markdown",
      "source": [
        "# Embeeding\n"
      ],
      "metadata": {
        "id": "Eyi9nWefvfPB"
      }
    },
    {
      "cell_type": "code",
      "source": [
        "!pip install langchain sentence_transformers"
      ],
      "metadata": {
        "colab": {
          "base_uri": "https://localhost:8080/"
        },
        "id": "jO2Oc7gJPU3r",
        "outputId": "c34a3bcc-f056-4a58-db1f-eadb8868d4fb"
      },
      "execution_count": 24,
      "outputs": [
        {
          "output_type": "stream",
          "name": "stdout",
          "text": [
            "Requirement already satisfied: langchain in /usr/local/lib/python3.10/dist-packages (0.0.350)\n",
            "Collecting sentence_transformers\n",
            "  Downloading sentence-transformers-2.2.2.tar.gz (85 kB)\n",
            "\u001b[2K     \u001b[90m━━━━━━━━━━━━━━━━━━━━━━━━━━━━━━━━━━━━━━━━\u001b[0m \u001b[32m86.0/86.0 kB\u001b[0m \u001b[31m2.9 MB/s\u001b[0m eta \u001b[36m0:00:00\u001b[0m\n",
            "\u001b[?25h  Preparing metadata (setup.py) ... \u001b[?25l\u001b[?25hdone\n",
            "Requirement already satisfied: PyYAML>=5.3 in /usr/local/lib/python3.10/dist-packages (from langchain) (6.0.1)\n",
            "Requirement already satisfied: SQLAlchemy<3,>=1.4 in /usr/local/lib/python3.10/dist-packages (from langchain) (2.0.23)\n",
            "Requirement already satisfied: aiohttp<4.0.0,>=3.8.3 in /usr/local/lib/python3.10/dist-packages (from langchain) (3.9.1)\n",
            "Requirement already satisfied: async-timeout<5.0.0,>=4.0.0 in /usr/local/lib/python3.10/dist-packages (from langchain) (4.0.3)\n",
            "Requirement already satisfied: dataclasses-json<0.7,>=0.5.7 in /usr/local/lib/python3.10/dist-packages (from langchain) (0.6.3)\n",
            "Requirement already satisfied: jsonpatch<2.0,>=1.33 in /usr/local/lib/python3.10/dist-packages (from langchain) (1.33)\n",
            "Requirement already satisfied: langchain-community<0.1,>=0.0.2 in /usr/local/lib/python3.10/dist-packages (from langchain) (0.0.3)\n",
            "Requirement already satisfied: langchain-core<0.2,>=0.1 in /usr/local/lib/python3.10/dist-packages (from langchain) (0.1.1)\n",
            "Requirement already satisfied: langsmith<0.1.0,>=0.0.63 in /usr/local/lib/python3.10/dist-packages (from langchain) (0.0.70)\n",
            "Requirement already satisfied: numpy<2,>=1 in /usr/local/lib/python3.10/dist-packages (from langchain) (1.23.5)\n",
            "Requirement already satisfied: pydantic<3,>=1 in /usr/local/lib/python3.10/dist-packages (from langchain) (1.10.13)\n",
            "Requirement already satisfied: requests<3,>=2 in /usr/local/lib/python3.10/dist-packages (from langchain) (2.31.0)\n",
            "Requirement already satisfied: tenacity<9.0.0,>=8.1.0 in /usr/local/lib/python3.10/dist-packages (from langchain) (8.2.3)\n",
            "Requirement already satisfied: transformers<5.0.0,>=4.6.0 in /usr/local/lib/python3.10/dist-packages (from sentence_transformers) (4.35.2)\n",
            "Requirement already satisfied: tqdm in /usr/local/lib/python3.10/dist-packages (from sentence_transformers) (4.66.1)\n",
            "Requirement already satisfied: torch>=1.6.0 in /usr/local/lib/python3.10/dist-packages (from sentence_transformers) (2.1.0+cu121)\n",
            "Requirement already satisfied: torchvision in /usr/local/lib/python3.10/dist-packages (from sentence_transformers) (0.16.0+cu121)\n",
            "Requirement already satisfied: scikit-learn in /usr/local/lib/python3.10/dist-packages (from sentence_transformers) (1.2.2)\n",
            "Requirement already satisfied: scipy in /usr/local/lib/python3.10/dist-packages (from sentence_transformers) (1.11.4)\n",
            "Requirement already satisfied: nltk in /usr/local/lib/python3.10/dist-packages (from sentence_transformers) (3.8.1)\n",
            "Collecting sentencepiece (from sentence_transformers)\n",
            "  Downloading sentencepiece-0.1.99-cp310-cp310-manylinux_2_17_x86_64.manylinux2014_x86_64.whl (1.3 MB)\n",
            "\u001b[2K     \u001b[90m━━━━━━━━━━━━━━━━━━━━━━━━━━━━━━━━━━━━━━━━\u001b[0m \u001b[32m1.3/1.3 MB\u001b[0m \u001b[31m16.0 MB/s\u001b[0m eta \u001b[36m0:00:00\u001b[0m\n",
            "\u001b[?25hRequirement already satisfied: huggingface-hub>=0.4.0 in /usr/local/lib/python3.10/dist-packages (from sentence_transformers) (0.19.4)\n",
            "Requirement already satisfied: attrs>=17.3.0 in /usr/local/lib/python3.10/dist-packages (from aiohttp<4.0.0,>=3.8.3->langchain) (23.1.0)\n",
            "Requirement already satisfied: multidict<7.0,>=4.5 in /usr/local/lib/python3.10/dist-packages (from aiohttp<4.0.0,>=3.8.3->langchain) (6.0.4)\n",
            "Requirement already satisfied: yarl<2.0,>=1.0 in /usr/local/lib/python3.10/dist-packages (from aiohttp<4.0.0,>=3.8.3->langchain) (1.9.4)\n",
            "Requirement already satisfied: frozenlist>=1.1.1 in /usr/local/lib/python3.10/dist-packages (from aiohttp<4.0.0,>=3.8.3->langchain) (1.4.0)\n",
            "Requirement already satisfied: aiosignal>=1.1.2 in /usr/local/lib/python3.10/dist-packages (from aiohttp<4.0.0,>=3.8.3->langchain) (1.3.1)\n",
            "Requirement already satisfied: marshmallow<4.0.0,>=3.18.0 in /usr/local/lib/python3.10/dist-packages (from dataclasses-json<0.7,>=0.5.7->langchain) (3.20.1)\n",
            "Requirement already satisfied: typing-inspect<1,>=0.4.0 in /usr/local/lib/python3.10/dist-packages (from dataclasses-json<0.7,>=0.5.7->langchain) (0.9.0)\n",
            "Requirement already satisfied: filelock in /usr/local/lib/python3.10/dist-packages (from huggingface-hub>=0.4.0->sentence_transformers) (3.13.1)\n",
            "Requirement already satisfied: fsspec>=2023.5.0 in /usr/local/lib/python3.10/dist-packages (from huggingface-hub>=0.4.0->sentence_transformers) (2023.6.0)\n",
            "Requirement already satisfied: typing-extensions>=3.7.4.3 in /usr/local/lib/python3.10/dist-packages (from huggingface-hub>=0.4.0->sentence_transformers) (4.5.0)\n",
            "Requirement already satisfied: packaging>=20.9 in /usr/local/lib/python3.10/dist-packages (from huggingface-hub>=0.4.0->sentence_transformers) (23.2)\n",
            "Requirement already satisfied: jsonpointer>=1.9 in /usr/local/lib/python3.10/dist-packages (from jsonpatch<2.0,>=1.33->langchain) (2.4)\n",
            "Requirement already satisfied: anyio<5,>=3 in /usr/local/lib/python3.10/dist-packages (from langchain-core<0.2,>=0.1->langchain) (3.7.1)\n",
            "Requirement already satisfied: charset-normalizer<4,>=2 in /usr/local/lib/python3.10/dist-packages (from requests<3,>=2->langchain) (3.3.2)\n",
            "Requirement already satisfied: idna<4,>=2.5 in /usr/local/lib/python3.10/dist-packages (from requests<3,>=2->langchain) (3.6)\n",
            "Requirement already satisfied: urllib3<3,>=1.21.1 in /usr/local/lib/python3.10/dist-packages (from requests<3,>=2->langchain) (2.0.7)\n",
            "Requirement already satisfied: certifi>=2017.4.17 in /usr/local/lib/python3.10/dist-packages (from requests<3,>=2->langchain) (2023.11.17)\n",
            "Requirement already satisfied: greenlet!=0.4.17 in /usr/local/lib/python3.10/dist-packages (from SQLAlchemy<3,>=1.4->langchain) (3.0.2)\n",
            "Requirement already satisfied: sympy in /usr/local/lib/python3.10/dist-packages (from torch>=1.6.0->sentence_transformers) (1.12)\n",
            "Requirement already satisfied: networkx in /usr/local/lib/python3.10/dist-packages (from torch>=1.6.0->sentence_transformers) (3.2.1)\n",
            "Requirement already satisfied: jinja2 in /usr/local/lib/python3.10/dist-packages (from torch>=1.6.0->sentence_transformers) (3.1.2)\n",
            "Requirement already satisfied: triton==2.1.0 in /usr/local/lib/python3.10/dist-packages (from torch>=1.6.0->sentence_transformers) (2.1.0)\n",
            "Requirement already satisfied: regex!=2019.12.17 in /usr/local/lib/python3.10/dist-packages (from transformers<5.0.0,>=4.6.0->sentence_transformers) (2023.6.3)\n",
            "Requirement already satisfied: tokenizers<0.19,>=0.14 in /usr/local/lib/python3.10/dist-packages (from transformers<5.0.0,>=4.6.0->sentence_transformers) (0.15.0)\n",
            "Requirement already satisfied: safetensors>=0.3.1 in /usr/local/lib/python3.10/dist-packages (from transformers<5.0.0,>=4.6.0->sentence_transformers) (0.4.1)\n",
            "Requirement already satisfied: click in /usr/local/lib/python3.10/dist-packages (from nltk->sentence_transformers) (8.1.7)\n",
            "Requirement already satisfied: joblib in /usr/local/lib/python3.10/dist-packages (from nltk->sentence_transformers) (1.3.2)\n",
            "Requirement already satisfied: threadpoolctl>=2.0.0 in /usr/local/lib/python3.10/dist-packages (from scikit-learn->sentence_transformers) (3.2.0)\n",
            "Requirement already satisfied: pillow!=8.3.*,>=5.3.0 in /usr/local/lib/python3.10/dist-packages (from torchvision->sentence_transformers) (9.4.0)\n",
            "Requirement already satisfied: sniffio>=1.1 in /usr/local/lib/python3.10/dist-packages (from anyio<5,>=3->langchain-core<0.2,>=0.1->langchain) (1.3.0)\n",
            "Requirement already satisfied: exceptiongroup in /usr/local/lib/python3.10/dist-packages (from anyio<5,>=3->langchain-core<0.2,>=0.1->langchain) (1.2.0)\n",
            "Requirement already satisfied: mypy-extensions>=0.3.0 in /usr/local/lib/python3.10/dist-packages (from typing-inspect<1,>=0.4.0->dataclasses-json<0.7,>=0.5.7->langchain) (1.0.0)\n",
            "Requirement already satisfied: MarkupSafe>=2.0 in /usr/local/lib/python3.10/dist-packages (from jinja2->torch>=1.6.0->sentence_transformers) (2.1.3)\n",
            "Requirement already satisfied: mpmath>=0.19 in /usr/local/lib/python3.10/dist-packages (from sympy->torch>=1.6.0->sentence_transformers) (1.3.0)\n",
            "Building wheels for collected packages: sentence_transformers\n",
            "  Building wheel for sentence_transformers (setup.py) ... \u001b[?25l\u001b[?25hdone\n",
            "  Created wheel for sentence_transformers: filename=sentence_transformers-2.2.2-py3-none-any.whl size=125923 sha256=d31a87ff355e35896697b5202b71eb259f3c8a69f00b2d7971f1ab43461ebe93\n",
            "  Stored in directory: /root/.cache/pip/wheels/62/f2/10/1e606fd5f02395388f74e7462910fe851042f97238cbbd902f\n",
            "Successfully built sentence_transformers\n",
            "Installing collected packages: sentencepiece, sentence_transformers\n",
            "Successfully installed sentence_transformers-2.2.2 sentencepiece-0.1.99\n"
          ]
        }
      ]
    },
    {
      "cell_type": "code",
      "source": [
        "from langchain.embeddings import HuggingFaceEmbeddings"
      ],
      "metadata": {
        "id": "ctFju-usPU66"
      },
      "execution_count": 25,
      "outputs": []
    },
    {
      "cell_type": "code",
      "source": [
        "hf_embeddings = HuggingFaceEmbeddings()\n"
      ],
      "metadata": {
        "id": "SzZkJQL-PU9_"
      },
      "execution_count": 34,
      "outputs": []
    },
    {
      "cell_type": "code",
      "source": [
        "text = \"What is your refund policy?\"\n",
        "\n",
        "e = hf_embeddings.embed_query(text)"
      ],
      "metadata": {
        "id": "Ee9KCo1RPVDS"
      },
      "execution_count": 35,
      "outputs": []
    },
    {
      "cell_type": "code",
      "source": [
        "e[:3]"
      ],
      "metadata": {
        "colab": {
          "base_uri": "https://localhost:8080/"
        },
        "id": "sXVuJha1PVF7",
        "outputId": "9564f6ac-62f6-4eca-f0db-03f2ed8ac92c"
      },
      "execution_count": 36,
      "outputs": [
        {
          "output_type": "execute_result",
          "data": {
            "text/plain": [
              "[0.02429858222603798, 0.037645600736141205, 0.006362581625580788]"
            ]
          },
          "metadata": {},
          "execution_count": 36
        }
      ]
    },
    {
      "cell_type": "code",
      "source": [
        "len(e)"
      ],
      "metadata": {
        "colab": {
          "base_uri": "https://localhost:8080/"
        },
        "id": "0Wo32Qq7PVJk",
        "outputId": "7dc73a59-e011-4c10-b69e-19149cd8b0f0"
      },
      "execution_count": 37,
      "outputs": [
        {
          "output_type": "execute_result",
          "data": {
            "text/plain": [
              "768"
            ]
          },
          "metadata": {},
          "execution_count": 37
        }
      ]
    },
    {
      "cell_type": "code",
      "source": [],
      "metadata": {
        "id": "lhaeQ5HqbMVi"
      },
      "execution_count": null,
      "outputs": []
    },
    {
      "cell_type": "code",
      "source": [],
      "metadata": {
        "id": "wWWpoDikbMZP"
      },
      "execution_count": null,
      "outputs": []
    },
    {
      "cell_type": "code",
      "source": [],
      "metadata": {
        "id": "MVt6Ir2HvpJj"
      },
      "execution_count": null,
      "outputs": []
    },
    {
      "cell_type": "markdown",
      "source": [
        "# VECTOR DATABASE"
      ],
      "metadata": {
        "id": "eCJXJllsvpgH"
      }
    },
    {
      "cell_type": "code",
      "source": [],
      "metadata": {
        "id": "gtqio_FVbMpR"
      },
      "execution_count": null,
      "outputs": []
    },
    {
      "cell_type": "code",
      "source": [
        "!pip install faiss-cpu"
      ],
      "metadata": {
        "colab": {
          "base_uri": "https://localhost:8080/"
        },
        "id": "WhuklwvvPVQd",
        "outputId": "6e1435bb-373c-4852-cd08-366dfca18d0e"
      },
      "execution_count": 46,
      "outputs": [
        {
          "output_type": "stream",
          "name": "stdout",
          "text": [
            "Collecting faiss-cpu\n",
            "  Downloading faiss_cpu-1.7.4-cp310-cp310-manylinux_2_17_x86_64.manylinux2014_x86_64.whl (17.6 MB)\n",
            "\u001b[2K     \u001b[90m━━━━━━━━━━━━━━━━━━━━━━━━━━━━━━━━━━━━━━━━\u001b[0m \u001b[32m17.6/17.6 MB\u001b[0m \u001b[31m55.7 MB/s\u001b[0m eta \u001b[36m0:00:00\u001b[0m\n",
            "\u001b[?25hInstalling collected packages: faiss-cpu\n",
            "Successfully installed faiss-cpu-1.7.4\n"
          ]
        }
      ]
    },
    {
      "cell_type": "code",
      "source": [
        "from langchain.vectorstores import FAISS\n",
        "\n"
      ],
      "metadata": {
        "id": "cEkyohygPVTg"
      },
      "execution_count": 47,
      "outputs": []
    },
    {
      "cell_type": "code",
      "source": [
        "\n",
        "vectordb = FAISS.from_documents(documents= data,\n",
        "                                 embedding=hf_embeddings)\n",
        "\n"
      ],
      "metadata": {
        "id": "AhyUekKoPVW_"
      },
      "execution_count": 48,
      "outputs": []
    },
    {
      "cell_type": "code",
      "source": [],
      "metadata": {
        "id": "SQMCTmtev0Fs"
      },
      "execution_count": null,
      "outputs": []
    },
    {
      "cell_type": "code",
      "source": [],
      "metadata": {
        "id": "J7B5-pi5v0sC"
      },
      "execution_count": null,
      "outputs": []
    },
    {
      "cell_type": "code",
      "source": [],
      "metadata": {
        "id": "cyr-1lSgv0zA"
      },
      "execution_count": null,
      "outputs": []
    },
    {
      "cell_type": "markdown",
      "source": [
        "# RetreivalQA"
      ],
      "metadata": {
        "id": "5TuaKu0Gv59S"
      }
    },
    {
      "cell_type": "code",
      "source": [],
      "metadata": {
        "id": "HkTqQAXTv03M"
      },
      "execution_count": null,
      "outputs": []
    },
    {
      "cell_type": "code",
      "source": [
        "\n",
        "\n",
        "retriever = vectordb.as_retriever(score_threshold = 0.7)"
      ],
      "metadata": {
        "id": "fiGEgR8PPVa6"
      },
      "execution_count": 49,
      "outputs": []
    },
    {
      "cell_type": "code",
      "source": [],
      "metadata": {
        "id": "W0VKy6XFPVdC"
      },
      "execution_count": null,
      "outputs": []
    },
    {
      "cell_type": "code",
      "source": [
        "\n",
        "query = \"How much revenue did Potato Inc. make from selling Smartphones in Q2 2022\"\n",
        "docs = retriever.get_relevant_documents(query)"
      ],
      "metadata": {
        "id": "Gb1S-j5WPVgZ"
      },
      "execution_count": 55,
      "outputs": []
    },
    {
      "cell_type": "code",
      "source": [
        "docs"
      ],
      "metadata": {
        "colab": {
          "base_uri": "https://localhost:8080/"
        },
        "id": "pjfh9jIKPVjK",
        "outputId": "c7c8102d-c615-4cd6-d8c7-e57da841dd29"
      },
      "execution_count": 56,
      "outputs": [
        {
          "output_type": "execute_result",
          "data": {
            "text/plain": [
              "[Document(page_content='\\ufeffCompany Name: Potato Inc.\\nCategory: Revenue By Product\\nSub Cat: Smartphones\\nPeriod: 2023 Q1\\nValue - Randomized: 460,000,000,000', metadata={'source': '/content/LLM-Sample-Input-File.csv', 'row': 13}),\n",
              " Document(page_content='\\ufeffCompany Name: Potato Inc.\\nCategory: Revenue By Product\\nSub Cat: Smartphones\\nPeriod: 2023 Q3\\nValue - Randomized: 159,000,000,000', metadata={'source': '/content/LLM-Sample-Input-File.csv', 'row': 12}),\n",
              " Document(page_content='\\ufeffCompany Name: Potato Inc.\\nCategory: Revenue By Product\\nSub Cat: Smartphones\\nPeriod: 2023 Q2\\nValue - Randomized: 205,000,000,000', metadata={'source': '/content/LLM-Sample-Input-File.csv', 'row': 11}),\n",
              " Document(page_content='\\ufeffCompany Name: Potato Inc.\\nCategory: Revenue By Product\\nSub Cat: Smartphones\\nPeriod: 2022 Q2\\nValue - Randomized: 253,000,000,000', metadata={'source': '/content/LLM-Sample-Input-File.csv', 'row': 8})]"
            ]
          },
          "metadata": {},
          "execution_count": 56
        }
      ]
    },
    {
      "cell_type": "code",
      "source": [],
      "metadata": {
        "id": "pXbWKM-MNFQA"
      },
      "execution_count": null,
      "outputs": []
    },
    {
      "cell_type": "code",
      "source": [],
      "metadata": {
        "id": "KUmRJOQ4bS3i"
      },
      "execution_count": null,
      "outputs": []
    },
    {
      "cell_type": "code",
      "source": [],
      "metadata": {
        "id": "W4w-3qm4bTG-"
      },
      "execution_count": null,
      "outputs": []
    },
    {
      "cell_type": "code",
      "source": [],
      "metadata": {
        "id": "gjti4CxJZQFa"
      },
      "execution_count": null,
      "outputs": []
    },
    {
      "cell_type": "code",
      "source": [
        "from langchain.chains import RetrievalQA\n",
        "\n"
      ],
      "metadata": {
        "id": "oVXNmdsGZQJO"
      },
      "execution_count": 57,
      "outputs": []
    },
    {
      "cell_type": "code",
      "source": [
        "chain = RetrievalQA.from_chain_type(llm=llm,\n",
        "                            chain_type=\"stuff\",\n",
        "                            retriever=retriever,\n",
        "                            input_key=\"query\",\n",
        "                            return_source_documents=True,\n",
        "                          )"
      ],
      "metadata": {
        "id": "J2RQCkaIZQNn"
      },
      "execution_count": 59,
      "outputs": []
    },
    {
      "cell_type": "code",
      "source": [],
      "metadata": {
        "id": "EsuHTe3gZ3qb"
      },
      "execution_count": null,
      "outputs": []
    },
    {
      "cell_type": "code",
      "source": [
        "chain('How much revenue did Potato Inc. make from selling Smartphones in Q2 2022')"
      ],
      "metadata": {
        "colab": {
          "base_uri": "https://localhost:8080/",
          "height": 191
        },
        "id": "SAi34iaAa0F6",
        "outputId": "802ba337-88ea-46cc-c6df-b6ec52b7b72a"
      },
      "execution_count": 63,
      "outputs": [
        {
          "output_type": "execute_result",
          "data": {
            "text/plain": [
              "{'query': 'How much revenue did Potato Inc. make from selling Smartphones in Q2 2022',\n",
              " 'result': '253,000,000,000',\n",
              " 'source_documents': [Document(page_content='\\ufeffCompany Name: Potato Inc.\\nCategory: Revenue By Product\\nSub Cat: Smartphones\\nPeriod: 2023 Q1\\nValue - Randomized: 460,000,000,000', metadata={'source': '/content/LLM-Sample-Input-File.csv', 'row': 13}),\n",
              "  Document(page_content='\\ufeffCompany Name: Potato Inc.\\nCategory: Revenue By Product\\nSub Cat: Smartphones\\nPeriod: 2023 Q3\\nValue - Randomized: 159,000,000,000', metadata={'source': '/content/LLM-Sample-Input-File.csv', 'row': 12}),\n",
              "  Document(page_content='\\ufeffCompany Name: Potato Inc.\\nCategory: Revenue By Product\\nSub Cat: Smartphones\\nPeriod: 2023 Q2\\nValue - Randomized: 205,000,000,000', metadata={'source': '/content/LLM-Sample-Input-File.csv', 'row': 11}),\n",
              "  Document(page_content='\\ufeffCompany Name: Potato Inc.\\nCategory: Revenue By Product\\nSub Cat: Smartphones\\nPeriod: 2022 Q2\\nValue - Randomized: 253,000,000,000', metadata={'source': '/content/LLM-Sample-Input-File.csv', 'row': 8})]}"
            ]
          },
          "metadata": {},
          "execution_count": 63
        }
      ]
    },
    {
      "cell_type": "code",
      "source": [],
      "metadata": {
        "id": "AaYN9mTVa0Jy"
      },
      "execution_count": null,
      "outputs": []
    },
    {
      "cell_type": "code",
      "source": [
        "chain('How much revenue did Potato Inc. make from Japan in Q4 2022')"
      ],
      "metadata": {
        "colab": {
          "base_uri": "https://localhost:8080/",
          "height": 191
        },
        "id": "41lClV3BZ3vF",
        "outputId": "abdb01cc-1bd7-4a86-e5ba-c47a3c8c7555"
      },
      "execution_count": 62,
      "outputs": [
        {
          "output_type": "execute_result",
          "data": {
            "text/plain": [
              "{'query': 'How much revenue did Potato Inc. make from Japan in Q4 2022',\n",
              " 'result': '45,600,000,000',\n",
              " 'source_documents': [Document(page_content='\\ufeffCompany Name: Potato Inc.\\nCategory: Revenue By Region\\nSub Cat: Japan\\nPeriod: 2022 Q4\\nValue - Randomized: 45,600,000,000', metadata={'source': '/content/LLM-Sample-Input-File.csv', 'row': 38}),\n",
              "  Document(page_content='\\ufeffCompany Name: Potato Inc.\\nCategory: Revenue By Region\\nSub Cat: Japan\\nPeriod: 2022 Q1\\nValue - Randomized: 49,749,000,000', metadata={'source': '/content/LLM-Sample-Input-File.csv', 'row': 35}),\n",
              "  Document(page_content='\\ufeffCompany Name: Potato Inc.\\nCategory: Revenue By Region\\nSub Cat: Japan\\nPeriod: 2022 Q2\\nValue - Randomized: 15,448,000,000', metadata={'source': '/content/LLM-Sample-Input-File.csv', 'row': 36}),\n",
              "  Document(page_content='\\ufeffCompany Name: Potato Inc.\\nCategory: Revenue By Region\\nSub Cat: Japan\\nPeriod: 2023 Q2\\nValue - Randomized: 43,056,000,000', metadata={'source': '/content/LLM-Sample-Input-File.csv', 'row': 39})]}"
            ]
          },
          "metadata": {},
          "execution_count": 62
        }
      ]
    },
    {
      "cell_type": "code",
      "source": [],
      "metadata": {
        "id": "JEmke6D-Z3zo"
      },
      "execution_count": null,
      "outputs": []
    }
  ]
}